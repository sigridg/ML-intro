{
 "cells": [
  {
   "cell_type": "markdown",
   "metadata": {},
   "source": [
    "# IRIS ML eksempel\n",
    "I dette eksemplet ønsker man å lage en algoritme som skiller tre forskjellige sorter av blomsten Iris ved at man måler lengde og bredden på begerblad og kronblad. \n",
    "Mer info om datasettet ligger her:https://archive.ics.uci.edu/ml/datasets/Iris\n",
    "Avhengige variabel: sort\n",
    "Uavhengige variabler: Kronblad og begerblad bredde og lengde\n",
    "\n",
    "For å innstallere pakker inn i Jupyter så må man  spesifisere Cran repository direkte (pop up seleksjon virker ikke) \n",
    "install.packages(\"packages name\", repos = c(\"http://cran.uib.no\"))\n"
   ]
  },
  {
   "cell_type": "markdown",
   "metadata": {},
   "source": [
    "## Laste inn data og gi meningsfulle navn"
   ]
  },
  {
   "cell_type": "code",
   "execution_count": 10,
   "metadata": {
    "scrolled": false
   },
   "outputs": [
    {
     "name": "stderr",
     "output_type": "stream",
     "text": [
      "Warning message:\n",
      "\"package 'ggplot2' was built under R version 3.4.3\"Warning message:\n",
      "\"package 'class' was built under R version 3.4.3\""
     ]
    }
   ],
   "source": [
    "#Last inn riktige bilioteker\n",
    "library(ggplot2)\n",
    "library (class)\n",
    "\n",
    "#Last inn dataene og legg på kolonnenavn\n",
    "iris <- read.csv(url(\"http://archive.ics.uci.edu/ml/machine-learning-databases/iris/iris.data\"), header = FALSE)\n",
    "names(iris) <- c(\"Begerblad.Lengde\", \"Begerblad.Bredde\", \"Kronblad.lengde\", \"Kronblad.bredde\", \"Sort\")\n"
   ]
  },
  {
   "cell_type": "markdown",
   "metadata": {},
   "source": [
    "## Visualisere dataene\n",
    "For å se på dataene så er det hensiktsmessig å gjøre noen plot, gir bedre innsikt og en følelse for hvor stor variasjon det er mellom de variablene vi ønsker å separere.\n",
    "Ser at Iris-setose har klustrer ganske forskjellig fra de to andre sortene både på begerblad og kronblad. Bør derfor være lettere å skille ut denne sorten. Iris-versicolor og Iris-virginica klustrer seg mye mer sammen, særlig på begerblad. Disse to artene vil derfor sannsynligvis være vanskeligere å skille ved hjelp av de variablene vi har valgt (lengde og bredde på kronblad og begerblad)"
   ]
  },
  {
   "cell_type": "code",
   "execution_count": 13,
   "metadata": {},
   "outputs": [
    {
     "data": {},
     "metadata": {},
     "output_type": "display_data"
    },
    {
     "data": {},
     "metadata": {},
     "output_type": "display_data"
    },
    {
     "data": {
      "image/png": "[encoded data removed]",
      "text/plain": [
       "plot without title"
      ]
     },
     "metadata": {},
     "output_type": "display_data"
    },
    {
     "data": {
      "image/png": "[encoded data removed]",
      "text/plain": [
       "plot without title"
      ]
     },
     "metadata": {},
     "output_type": "display_data"
    }
   ],
   "source": [
    "#Plotte Begerblad lengde mot bredde og farge punktene  etter sort\n",
    "ggplot(iris, aes(x=Begerblad.Lengde, y=Begerblad.Bredde, color=Sort)) + geom_point()\n",
    "ggplot(iris, aes(x=Kronblad.lengde, y=Kronblad.bredde, color=Sort)) + geom_point()"
   ]
  },
  {
   "cell_type": "markdown",
   "metadata": {},
   "source": [
    "## Gjøre beregninger som støtter det visuelle bildet\n",
    "For å bekrefte sammenhengen mellom variablene som plottene viser så kan man gjøre korrelasjoner.Ser at overordnet så er korrelasjonen mellom kronblad lengde og bredde uavhenig av sort 0,96 (vises også i plottet over). Men hvis man ser på korrelasjonsmatrisen for en sort (se under for Iris-virginica) så er det mye lavere korrelasjon."
   ]
  },
  {
   "cell_type": "code",
   "execution_count": 15,
   "metadata": {},
   "outputs": [
    {
     "data": {
      "text/html": [
       "0.962757097050966"
      ],
      "text/latex": [
       "0.962757097050966"
      ],
      "text/markdown": [
       "0.962757097050966"
      ],
      "text/plain": [
       "[1] 0.9627571"
      ]
     },
     "metadata": {},
     "output_type": "display_data"
    },
    {
     "name": "stdout",
     "output_type": "stream",
     "text": [
      "[1] \"Iris-virginica\"\n"
     ]
    },
    {
     "data": {
      "text/html": [
       "<table>\n",
       "<thead><tr><th></th><th scope=col>Begerblad.Lengde</th><th scope=col>Begerblad.Bredde</th><th scope=col>Kronblad.lengde</th><th scope=col>Kronblad.bredde</th></tr></thead>\n",
       "<tbody>\n",
       "\t<tr><th scope=row>Begerblad.Lengde</th><td>1.0000000</td><td>0.4572278</td><td>0.8642247</td><td>0.2811077</td></tr>\n",
       "\t<tr><th scope=row>Begerblad.Bredde</th><td>0.4572278</td><td>1.0000000</td><td>0.4010446</td><td>0.5377280</td></tr>\n",
       "\t<tr><th scope=row>Kronblad.lengde</th><td>0.8642247</td><td>0.4010446</td><td>1.0000000</td><td>0.3221082</td></tr>\n",
       "\t<tr><th scope=row>Kronblad.bredde</th><td>0.2811077</td><td>0.5377280</td><td>0.3221082</td><td>1.0000000</td></tr>\n",
       "</tbody>\n",
       "</table>\n"
      ],
      "text/latex": [
       "\\begin{tabular}{r|llll}\n",
       "  & Begerblad.Lengde & Begerblad.Bredde & Kronblad.lengde & Kronblad.bredde\\\\\n",
       "\\hline\n",
       "\tBegerblad.Lengde & 1.0000000 & 0.4572278 & 0.8642247 & 0.2811077\\\\\n",
       "\tBegerblad.Bredde & 0.4572278 & 1.0000000 & 0.4010446 & 0.5377280\\\\\n",
       "\tKronblad.lengde & 0.8642247 & 0.4010446 & 1.0000000 & 0.3221082\\\\\n",
       "\tKronblad.bredde & 0.2811077 & 0.5377280 & 0.3221082 & 1.0000000\\\\\n",
       "\\end{tabular}\n"
      ],
      "text/markdown": [
       "\n",
       "| <!--/--> | Begerblad.Lengde | Begerblad.Bredde | Kronblad.lengde | Kronblad.bredde | \n",
       "|---|---|---|---|\n",
       "| Begerblad.Lengde | 1.0000000 | 0.4572278 | 0.8642247 | 0.2811077 | \n",
       "| Begerblad.Bredde | 0.4572278 | 1.0000000 | 0.4010446 | 0.5377280 | \n",
       "| Kronblad.lengde | 0.8642247 | 0.4010446 | 1.0000000 | 0.3221082 | \n",
       "| Kronblad.bredde | 0.2811077 | 0.5377280 | 0.3221082 | 1.0000000 | \n",
       "\n",
       "\n"
      ],
      "text/plain": [
       "                 Begerblad.Lengde Begerblad.Bredde Kronblad.lengde\n",
       "Begerblad.Lengde 1.0000000        0.4572278        0.8642247      \n",
       "Begerblad.Bredde 0.4572278        1.0000000        0.4010446      \n",
       "Kronblad.lengde  0.8642247        0.4010446        1.0000000      \n",
       "Kronblad.bredde  0.2811077        0.5377280        0.3221082      \n",
       "                 Kronblad.bredde\n",
       "Begerblad.Lengde 0.2811077      \n",
       "Begerblad.Bredde 0.5377280      \n",
       "Kronblad.lengde  0.3221082      \n",
       "Kronblad.bredde  1.0000000      "
      ]
     },
     "metadata": {},
     "output_type": "display_data"
    }
   ],
   "source": [
    "#Korrelasjon mellom Kronblad lengde og Kronblad bredde. Korrelasjonen totalt mellom kronblad lengde og bredde uavhengig av sort.\n",
    "cor(iris$Kronblad.lengde, iris$Kronblad.bredde)\n",
    "\n",
    "#Lager en variabel X som inneholder de tre sortnavnene. Sort [3] er Iris-virginica\n",
    "x=levels(iris$Sort)\n",
    "print(x[3])\n",
    "\n",
    "#print korrelasjonsmatrise for Iris Virginica\n",
    "cor(iris[iris$Sort==x[3], 1:4])"
   ]
  },
  {
   "cell_type": "markdown",
   "metadata": {},
   "source": [
    "## Normalisere dataene\n",
    "For å sammenligne data er det veldig vanlig at man må normalisere dem. Dette kan gjøres veldig enkelt eller mer komplisert ettersom hvilke data man jobber med. Her gjør vi en normalisering ved å standardisere slik at alle dataene kommer mellom 0 og 1 med en metode som også kalles \"Feature Scaling\" https://en.wikipedia.org/wiki/Feature_scaling\n",
    "\n",
    "Formel: x - min(x)/(max(x)-min(x))"
   ]
  },
  {
   "cell_type": "code",
   "execution_count": 17,
   "metadata": {},
   "outputs": [
    {
     "data": {
      "text/html": [
       "<table>\n",
       "<thead><tr><th scope=col>Begerblad.Lengde</th><th scope=col>Begerblad.Bredde</th><th scope=col>Kronblad.lengde</th><th scope=col>Kronblad.bredde</th></tr></thead>\n",
       "<tbody>\n",
       "\t<tr><td>0.22222222</td><td>0.6250000 </td><td>0.06779661</td><td>0.04166667</td></tr>\n",
       "\t<tr><td>0.16666667</td><td>0.4166667 </td><td>0.06779661</td><td>0.04166667</td></tr>\n",
       "\t<tr><td>0.11111111</td><td>0.5000000 </td><td>0.05084746</td><td>0.04166667</td></tr>\n",
       "\t<tr><td>0.08333333</td><td>0.4583333 </td><td>0.08474576</td><td>0.04166667</td></tr>\n",
       "\t<tr><td>0.19444444</td><td>0.6666667 </td><td>0.06779661</td><td>0.04166667</td></tr>\n",
       "\t<tr><td>0.30555556</td><td>0.7916667 </td><td>0.11864407</td><td>0.12500000</td></tr>\n",
       "</tbody>\n",
       "</table>\n"
      ],
      "text/latex": [
       "\\begin{tabular}{r|llll}\n",
       " Begerblad.Lengde & Begerblad.Bredde & Kronblad.lengde & Kronblad.bredde\\\\\n",
       "\\hline\n",
       "\t 0.22222222 & 0.6250000  & 0.06779661 & 0.04166667\\\\\n",
       "\t 0.16666667 & 0.4166667  & 0.06779661 & 0.04166667\\\\\n",
       "\t 0.11111111 & 0.5000000  & 0.05084746 & 0.04166667\\\\\n",
       "\t 0.08333333 & 0.4583333  & 0.08474576 & 0.04166667\\\\\n",
       "\t 0.19444444 & 0.6666667  & 0.06779661 & 0.04166667\\\\\n",
       "\t 0.30555556 & 0.7916667  & 0.11864407 & 0.12500000\\\\\n",
       "\\end{tabular}\n"
      ],
      "text/markdown": [
       "\n",
       "Begerblad.Lengde | Begerblad.Bredde | Kronblad.lengde | Kronblad.bredde | \n",
       "|---|---|---|---|---|---|\n",
       "| 0.22222222 | 0.6250000  | 0.06779661 | 0.04166667 | \n",
       "| 0.16666667 | 0.4166667  | 0.06779661 | 0.04166667 | \n",
       "| 0.11111111 | 0.5000000  | 0.05084746 | 0.04166667 | \n",
       "| 0.08333333 | 0.4583333  | 0.08474576 | 0.04166667 | \n",
       "| 0.19444444 | 0.6666667  | 0.06779661 | 0.04166667 | \n",
       "| 0.30555556 | 0.7916667  | 0.11864407 | 0.12500000 | \n",
       "\n",
       "\n"
      ],
      "text/plain": [
       "  Begerblad.Lengde Begerblad.Bredde Kronblad.lengde Kronblad.bredde\n",
       "1 0.22222222       0.6250000        0.06779661      0.04166667     \n",
       "2 0.16666667       0.4166667        0.06779661      0.04166667     \n",
       "3 0.11111111       0.5000000        0.05084746      0.04166667     \n",
       "4 0.08333333       0.4583333        0.08474576      0.04166667     \n",
       "5 0.19444444       0.6666667        0.06779661      0.04166667     \n",
       "6 0.30555556       0.7916667        0.11864407      0.12500000     "
      ]
     },
     "metadata": {},
     "output_type": "display_data"
    }
   ],
   "source": [
    "# Bygge en normalisering()` funksjon\n",
    "normalize <- function(x) {\n",
    "  num <- x - min(x)\n",
    "  denom <- max(x) - min(x)\n",
    "  return (num/denom)\n",
    "}\n",
    "\n",
    "#Normalisere datasettet\n",
    "Iris_norm <- as.data.frame(lapply(iris[1:4], normalize))\n",
    "\n",
    "head(Iris_norm)"
   ]
  },
  {
   "cell_type": "markdown",
   "metadata": {},
   "source": [
    "# Dele dataene i et treningssett og et testsett\n",
    "Vanlig prosedyre når man konstruerer en ML algoritme er å dele dataene slik at 70% av dataene brukes til å bygge algoritmen og 30 % av dataene brukes til å teste om algoritmen fungerer. Merk at den avhengige variablen nå er fjernet fra datasettene fordi det jo er den vi skal predikere/teste."
   ]
  },
  {
   "cell_type": "code",
   "execution_count": 18,
   "metadata": {},
   "outputs": [
    {
     "data": {
      "text/html": [
       "<table>\n",
       "<thead><tr><th></th><th scope=col>Begerblad.Lengde</th><th scope=col>Begerblad.Bredde</th><th scope=col>Kronblad.lengde</th><th scope=col>Kronblad.bredde</th></tr></thead>\n",
       "<tbody>\n",
       "\t<tr><th scope=row>1</th><td>0.22222222</td><td>0.6250000 </td><td>0.06779661</td><td>0.04166667</td></tr>\n",
       "\t<tr><th scope=row>2</th><td>0.16666667</td><td>0.4166667 </td><td>0.06779661</td><td>0.04166667</td></tr>\n",
       "\t<tr><th scope=row>3</th><td>0.11111111</td><td>0.5000000 </td><td>0.05084746</td><td>0.04166667</td></tr>\n",
       "\t<tr><th scope=row>4</th><td>0.08333333</td><td>0.4583333 </td><td>0.08474576</td><td>0.04166667</td></tr>\n",
       "\t<tr><th scope=row>6</th><td>0.30555556</td><td>0.7916667 </td><td>0.11864407</td><td>0.12500000</td></tr>\n",
       "\t<tr><th scope=row>7</th><td>0.08333333</td><td>0.5833333 </td><td>0.06779661</td><td>0.08333333</td></tr>\n",
       "</tbody>\n",
       "</table>\n"
      ],
      "text/latex": [
       "\\begin{tabular}{r|llll}\n",
       "  & Begerblad.Lengde & Begerblad.Bredde & Kronblad.lengde & Kronblad.bredde\\\\\n",
       "\\hline\n",
       "\t1 & 0.22222222 & 0.6250000  & 0.06779661 & 0.04166667\\\\\n",
       "\t2 & 0.16666667 & 0.4166667  & 0.06779661 & 0.04166667\\\\\n",
       "\t3 & 0.11111111 & 0.5000000  & 0.05084746 & 0.04166667\\\\\n",
       "\t4 & 0.08333333 & 0.4583333  & 0.08474576 & 0.04166667\\\\\n",
       "\t6 & 0.30555556 & 0.7916667  & 0.11864407 & 0.12500000\\\\\n",
       "\t7 & 0.08333333 & 0.5833333  & 0.06779661 & 0.08333333\\\\\n",
       "\\end{tabular}\n"
      ],
      "text/markdown": [
       "\n",
       "| <!--/--> | Begerblad.Lengde | Begerblad.Bredde | Kronblad.lengde | Kronblad.bredde | \n",
       "|---|---|---|---|---|---|\n",
       "| 1 | 0.22222222 | 0.6250000  | 0.06779661 | 0.04166667 | \n",
       "| 2 | 0.16666667 | 0.4166667  | 0.06779661 | 0.04166667 | \n",
       "| 3 | 0.11111111 | 0.5000000  | 0.05084746 | 0.04166667 | \n",
       "| 4 | 0.08333333 | 0.4583333  | 0.08474576 | 0.04166667 | \n",
       "| 6 | 0.30555556 | 0.7916667  | 0.11864407 | 0.12500000 | \n",
       "| 7 | 0.08333333 | 0.5833333  | 0.06779661 | 0.08333333 | \n",
       "\n",
       "\n"
      ],
      "text/plain": [
       "  Begerblad.Lengde Begerblad.Bredde Kronblad.lengde Kronblad.bredde\n",
       "1 0.22222222       0.6250000        0.06779661      0.04166667     \n",
       "2 0.16666667       0.4166667        0.06779661      0.04166667     \n",
       "3 0.11111111       0.5000000        0.05084746      0.04166667     \n",
       "4 0.08333333       0.4583333        0.08474576      0.04166667     \n",
       "6 0.30555556       0.7916667        0.11864407      0.12500000     \n",
       "7 0.08333333       0.5833333        0.06779661      0.08333333     "
      ]
     },
     "metadata": {},
     "output_type": "display_data"
    }
   ],
   "source": [
    "#Lage et trenings og test sett + sette seed\n",
    "set.seed(1234)\n",
    "ind <- sample(2, nrow(iris), replace = TRUE, prob=c(0.67, 0.33))\n",
    "\n",
    "iris.training <- Iris_norm[ind==1, 1:4]\n",
    "iris.test <- Iris_norm[ind==2, 1:4]\n",
    "\n",
    "#Lage Iris klasse navn\n",
    "iris.trainLabels <- iris[ind==1,5]\n",
    "iris.testLabels <- iris[ind==2,5]\n",
    "\n",
    "head(iris.training)"
   ]
  },
  {
   "cell_type": "markdown",
   "metadata": {},
   "source": [
    "# Bygge modellen\n",
    "Den statistiske algoritmen som brukes i denne modellen er en \"Nærmeste nabo\" algoritme (https://en.wikipedia.org/wiki/K-nearest_neighbors_algorithm). Algoritmen ser på de nærmeste naboene til den verdien som undersøkes og klassifiserer den ukjente etter hvilken klasse de fleste naboene er i. Man kan selv velge hvor mange nærmeste naboer som skal brukes til klassifiseringen. Det vanlige er 3 eller 5. Her bruker vi k = 3"
   ]
  },
  {
   "cell_type": "code",
   "execution_count": 21,
   "metadata": {},
   "outputs": [],
   "source": [
    "#Bygge modellen\n",
    "iris_pred <- knn(train = iris.training, test = iris.test, cl = iris.trainLabels, k=3)"
   ]
  },
  {
   "cell_type": "markdown",
   "metadata": {},
   "source": [
    "# Sjekke om modellen fungerer\n",
    "Dette gjør vi ved å sjekke den sorten vi har predikert mot den sorten som ligger i test settet (observert sort). Ser at vi har bommet to ganger av de 45 blomstene som ligger i datasettet = 96% predisjon - som jo må sies å være bra :). Verifikasjon av modellen kan og bør selvfølgelig gjøres mye mer sofistikert enn dette."
   ]
  },
  {
   "cell_type": "code",
   "execution_count": 24,
   "metadata": {},
   "outputs": [
    {
     "data": {
      "text/html": [
       "<table>\n",
       "<thead><tr><th scope=col>Predikert Sort</th><th scope=col>Observert Sort</th></tr></thead>\n",
       "<tbody>\n",
       "\t<tr><td>Iris-setosa    </td><td>Iris-setosa    </td></tr>\n",
       "\t<tr><td>Iris-setosa    </td><td>Iris-setosa    </td></tr>\n",
       "\t<tr><td>Iris-setosa    </td><td>Iris-setosa    </td></tr>\n",
       "\t<tr><td>Iris-setosa    </td><td>Iris-setosa    </td></tr>\n",
       "\t<tr><td>Iris-setosa    </td><td>Iris-setosa    </td></tr>\n",
       "\t<tr><td>Iris-setosa    </td><td>Iris-setosa    </td></tr>\n",
       "\t<tr><td>Iris-setosa    </td><td>Iris-setosa    </td></tr>\n",
       "\t<tr><td>Iris-setosa    </td><td>Iris-setosa    </td></tr>\n",
       "\t<tr><td>Iris-setosa    </td><td>Iris-setosa    </td></tr>\n",
       "\t<tr><td>Iris-setosa    </td><td>Iris-setosa    </td></tr>\n",
       "\t<tr><td>Iris-setosa    </td><td>Iris-setosa    </td></tr>\n",
       "\t<tr><td>Iris-setosa    </td><td>Iris-setosa    </td></tr>\n",
       "\t<tr><td>Iris-versicolor</td><td>Iris-versicolor</td></tr>\n",
       "\t<tr><td>Iris-versicolor</td><td>Iris-versicolor</td></tr>\n",
       "\t<tr><td>Iris-versicolor</td><td>Iris-versicolor</td></tr>\n",
       "\t<tr><td>Iris-versicolor</td><td>Iris-versicolor</td></tr>\n",
       "\t<tr><td>Iris-versicolor</td><td>Iris-versicolor</td></tr>\n",
       "\t<tr><td>Iris-versicolor</td><td>Iris-versicolor</td></tr>\n",
       "\t<tr><td>Iris-versicolor</td><td>Iris-versicolor</td></tr>\n",
       "\t<tr><td>Iris-versicolor</td><td>Iris-versicolor</td></tr>\n",
       "\t<tr><td>Iris-versicolor</td><td>Iris-versicolor</td></tr>\n",
       "\t<tr><td>Iris-versicolor</td><td>Iris-versicolor</td></tr>\n",
       "\t<tr><td>Iris-versicolor</td><td>Iris-versicolor</td></tr>\n",
       "\t<tr><td>Iris-versicolor</td><td>Iris-versicolor</td></tr>\n",
       "\t<tr><td>Iris-virginica </td><td>Iris-virginica </td></tr>\n",
       "\t<tr><td>Iris-virginica </td><td>Iris-virginica </td></tr>\n",
       "\t<tr><td>Iris-virginica </td><td>Iris-virginica </td></tr>\n",
       "\t<tr><td>Iris-virginica </td><td>Iris-virginica </td></tr>\n",
       "\t<tr><td>Iris-versicolor</td><td>Iris-virginica </td></tr>\n",
       "\t<tr><td>Iris-virginica </td><td>Iris-virginica </td></tr>\n",
       "\t<tr><td>Iris-virginica </td><td>Iris-virginica </td></tr>\n",
       "\t<tr><td>Iris-virginica </td><td>Iris-virginica </td></tr>\n",
       "\t<tr><td>Iris-virginica </td><td>Iris-virginica </td></tr>\n",
       "\t<tr><td>Iris-virginica </td><td>Iris-virginica </td></tr>\n",
       "\t<tr><td>Iris-versicolor</td><td>Iris-virginica </td></tr>\n",
       "\t<tr><td>Iris-virginica </td><td>Iris-virginica </td></tr>\n",
       "\t<tr><td>Iris-virginica </td><td>Iris-virginica </td></tr>\n",
       "\t<tr><td>Iris-virginica </td><td>Iris-virginica </td></tr>\n",
       "\t<tr><td>Iris-virginica </td><td>Iris-virginica </td></tr>\n",
       "\t<tr><td>Iris-virginica </td><td>Iris-virginica </td></tr>\n",
       "</tbody>\n",
       "</table>\n"
      ],
      "text/latex": [
       "\\begin{tabular}{r|ll}\n",
       " Predikert Sort & Observert Sort\\\\\n",
       "\\hline\n",
       "\t Iris-setosa     & Iris-setosa    \\\\\n",
       "\t Iris-setosa     & Iris-setosa    \\\\\n",
       "\t Iris-setosa     & Iris-setosa    \\\\\n",
       "\t Iris-setosa     & Iris-setosa    \\\\\n",
       "\t Iris-setosa     & Iris-setosa    \\\\\n",
       "\t Iris-setosa     & Iris-setosa    \\\\\n",
       "\t Iris-setosa     & Iris-setosa    \\\\\n",
       "\t Iris-setosa     & Iris-setosa    \\\\\n",
       "\t Iris-setosa     & Iris-setosa    \\\\\n",
       "\t Iris-setosa     & Iris-setosa    \\\\\n",
       "\t Iris-setosa     & Iris-setosa    \\\\\n",
       "\t Iris-setosa     & Iris-setosa    \\\\\n",
       "\t Iris-versicolor & Iris-versicolor\\\\\n",
       "\t Iris-versicolor & Iris-versicolor\\\\\n",
       "\t Iris-versicolor & Iris-versicolor\\\\\n",
       "\t Iris-versicolor & Iris-versicolor\\\\\n",
       "\t Iris-versicolor & Iris-versicolor\\\\\n",
       "\t Iris-versicolor & Iris-versicolor\\\\\n",
       "\t Iris-versicolor & Iris-versicolor\\\\\n",
       "\t Iris-versicolor & Iris-versicolor\\\\\n",
       "\t Iris-versicolor & Iris-versicolor\\\\\n",
       "\t Iris-versicolor & Iris-versicolor\\\\\n",
       "\t Iris-versicolor & Iris-versicolor\\\\\n",
       "\t Iris-versicolor & Iris-versicolor\\\\\n",
       "\t Iris-virginica  & Iris-virginica \\\\\n",
       "\t Iris-virginica  & Iris-virginica \\\\\n",
       "\t Iris-virginica  & Iris-virginica \\\\\n",
       "\t Iris-virginica  & Iris-virginica \\\\\n",
       "\t Iris-versicolor & Iris-virginica \\\\\n",
       "\t Iris-virginica  & Iris-virginica \\\\\n",
       "\t Iris-virginica  & Iris-virginica \\\\\n",
       "\t Iris-virginica  & Iris-virginica \\\\\n",
       "\t Iris-virginica  & Iris-virginica \\\\\n",
       "\t Iris-virginica  & Iris-virginica \\\\\n",
       "\t Iris-versicolor & Iris-virginica \\\\\n",
       "\t Iris-virginica  & Iris-virginica \\\\\n",
       "\t Iris-virginica  & Iris-virginica \\\\\n",
       "\t Iris-virginica  & Iris-virginica \\\\\n",
       "\t Iris-virginica  & Iris-virginica \\\\\n",
       "\t Iris-virginica  & Iris-virginica \\\\\n",
       "\\end{tabular}\n"
      ],
      "text/markdown": [
       "\n",
       "Predikert Sort | Observert Sort | \n",
       "|---|---|---|---|---|---|---|---|---|---|---|---|---|---|---|---|---|---|---|---|---|---|---|---|---|---|---|---|---|---|---|---|---|---|---|---|---|---|---|---|\n",
       "| Iris-setosa     | Iris-setosa     | \n",
       "| Iris-setosa     | Iris-setosa     | \n",
       "| Iris-setosa     | Iris-setosa     | \n",
       "| Iris-setosa     | Iris-setosa     | \n",
       "| Iris-setosa     | Iris-setosa     | \n",
       "| Iris-setosa     | Iris-setosa     | \n",
       "| Iris-setosa     | Iris-setosa     | \n",
       "| Iris-setosa     | Iris-setosa     | \n",
       "| Iris-setosa     | Iris-setosa     | \n",
       "| Iris-setosa     | Iris-setosa     | \n",
       "| Iris-setosa     | Iris-setosa     | \n",
       "| Iris-setosa     | Iris-setosa     | \n",
       "| Iris-versicolor | Iris-versicolor | \n",
       "| Iris-versicolor | Iris-versicolor | \n",
       "| Iris-versicolor | Iris-versicolor | \n",
       "| Iris-versicolor | Iris-versicolor | \n",
       "| Iris-versicolor | Iris-versicolor | \n",
       "| Iris-versicolor | Iris-versicolor | \n",
       "| Iris-versicolor | Iris-versicolor | \n",
       "| Iris-versicolor | Iris-versicolor | \n",
       "| Iris-versicolor | Iris-versicolor | \n",
       "| Iris-versicolor | Iris-versicolor | \n",
       "| Iris-versicolor | Iris-versicolor | \n",
       "| Iris-versicolor | Iris-versicolor | \n",
       "| Iris-virginica  | Iris-virginica  | \n",
       "| Iris-virginica  | Iris-virginica  | \n",
       "| Iris-virginica  | Iris-virginica  | \n",
       "| Iris-virginica  | Iris-virginica  | \n",
       "| Iris-versicolor | Iris-virginica  | \n",
       "| Iris-virginica  | Iris-virginica  | \n",
       "| Iris-virginica  | Iris-virginica  | \n",
       "| Iris-virginica  | Iris-virginica  | \n",
       "| Iris-virginica  | Iris-virginica  | \n",
       "| Iris-virginica  | Iris-virginica  | \n",
       "| Iris-versicolor | Iris-virginica  | \n",
       "| Iris-virginica  | Iris-virginica  | \n",
       "| Iris-virginica  | Iris-virginica  | \n",
       "| Iris-virginica  | Iris-virginica  | \n",
       "| Iris-virginica  | Iris-virginica  | \n",
       "| Iris-virginica  | Iris-virginica  | \n",
       "\n",
       "\n"
      ],
      "text/plain": [
       "   Predikert Sort  Observert Sort \n",
       "1  Iris-setosa     Iris-setosa    \n",
       "2  Iris-setosa     Iris-setosa    \n",
       "3  Iris-setosa     Iris-setosa    \n",
       "4  Iris-setosa     Iris-setosa    \n",
       "5  Iris-setosa     Iris-setosa    \n",
       "6  Iris-setosa     Iris-setosa    \n",
       "7  Iris-setosa     Iris-setosa    \n",
       "8  Iris-setosa     Iris-setosa    \n",
       "9  Iris-setosa     Iris-setosa    \n",
       "10 Iris-setosa     Iris-setosa    \n",
       "11 Iris-setosa     Iris-setosa    \n",
       "12 Iris-setosa     Iris-setosa    \n",
       "13 Iris-versicolor Iris-versicolor\n",
       "14 Iris-versicolor Iris-versicolor\n",
       "15 Iris-versicolor Iris-versicolor\n",
       "16 Iris-versicolor Iris-versicolor\n",
       "17 Iris-versicolor Iris-versicolor\n",
       "18 Iris-versicolor Iris-versicolor\n",
       "19 Iris-versicolor Iris-versicolor\n",
       "20 Iris-versicolor Iris-versicolor\n",
       "21 Iris-versicolor Iris-versicolor\n",
       "22 Iris-versicolor Iris-versicolor\n",
       "23 Iris-versicolor Iris-versicolor\n",
       "24 Iris-versicolor Iris-versicolor\n",
       "25 Iris-virginica  Iris-virginica \n",
       "26 Iris-virginica  Iris-virginica \n",
       "27 Iris-virginica  Iris-virginica \n",
       "28 Iris-virginica  Iris-virginica \n",
       "29 Iris-versicolor Iris-virginica \n",
       "30 Iris-virginica  Iris-virginica \n",
       "31 Iris-virginica  Iris-virginica \n",
       "32 Iris-virginica  Iris-virginica \n",
       "33 Iris-virginica  Iris-virginica \n",
       "34 Iris-virginica  Iris-virginica \n",
       "35 Iris-versicolor Iris-virginica \n",
       "36 Iris-virginica  Iris-virginica \n",
       "37 Iris-virginica  Iris-virginica \n",
       "38 Iris-virginica  Iris-virginica \n",
       "39 Iris-virginica  Iris-virginica \n",
       "40 Iris-virginica  Iris-virginica "
      ]
     },
     "metadata": {},
     "output_type": "display_data"
    }
   ],
   "source": [
    "#Sjekke opp mot testsett\n",
    "irisTestLabels <- data.frame(iris.testLabels)\n",
    "merge <- data.frame(iris_pred, iris.testLabels)\n",
    "names(merge) <- c(\"Predikert Sort\",\"Observert Sort\")\n",
    "merge"
   ]
  }
 ],
 "metadata": {
  "kernelspec": {
   "display_name": "R",
   "language": "R",
   "name": "ir"
  },
  "language_info": {
   "codemirror_mode": "r",
   "file_extension": ".r",
   "mimetype": "text/x-r-source",
   "name": "R",
   "pygments_lexer": "r",
   "version": "3.4.2"
  }
 },
 "nbformat": 4,
 "nbformat_minor": 2
}
